{
 "cells": [
  {
   "cell_type": "markdown",
   "id": "4ab978cc",
   "metadata": {},
   "source": [
    "# Data Manipulation"
   ]
  },
  {
   "cell_type": "code",
   "execution_count": 1,
   "id": "72a15d0f",
   "metadata": {},
   "outputs": [],
   "source": [
    "import os\n",
    "import shutil\n",
    "\n",
    "source_directory = r\"C:\\Users\\AKAM\\OneDrive\\Desktop\\Challenge\\data_challenge\\images\\train\\images\"\n",
    "destination_directory = r\"C:\\Users\\AKAM\\OneDrive\\Desktop\\Challenge\\Self_Annotated_data_challenge\\images\"\n",
    "\n",
    "batch_size = 200\n",
    "file_counter = 0\n",
    "batch_number = 1\n",
    "\n",
    "os.makedirs(os.path.join(destination_directory, f\"batch_{batch_number}\"), exist_ok=True)\n",
    "\n",
    "for filename in os.listdir(source_directory):\n",
    "    if filename.endswith(\".png\"):  \n",
    "        source_path = os.path.join(source_directory, filename)\n",
    "        destination_path = os.path.join(destination_directory, f\"batch_{batch_number}\", filename)\n",
    "        \n",
    "        shutil.copy(source_path, destination_path)\n",
    "        \n",
    "        file_counter += 1\n",
    "        if file_counter >= batch_size:\n",
    "            file_counter = 0\n",
    "            batch_number += 1\n",
    "            os.makedirs(os.path.join(destination_directory, f\"batch_{batch_number}\"), exist_ok=True)\n"
   ]
  },
  {
   "cell_type": "markdown",
   "id": "815517d4",
   "metadata": {},
   "source": [
    "## Masks"
   ]
  },
  {
   "cell_type": "code",
   "execution_count": 2,
   "id": "cd7899ea",
   "metadata": {},
   "outputs": [],
   "source": []
  },
  {
   "cell_type": "code",
   "execution_count": 3,
   "id": "dfe0b24a",
   "metadata": {},
   "outputs": [],
   "source": [
    "import json\n",
    "import os\n",
    "from PIL import Image, ImageDraw\n",
    "\n",
    "# Load JSON file\n",
    "json_file_path = \"Challenge_1st_trial.json\"\n",
    "output_dir = \"output_masks\"\n",
    "os.makedirs(output_dir, exist_ok=True)\n",
    "\n",
    "# Loop through annotations and create masks\n",
    "with open(json_file_path, \"r\") as json_file:\n",
    "    for line in json_file:\n",
    "        annotation = json.loads(line)\n",
    "        \n",
    "        image_filename = annotation[\"filename\"]\n",
    "        image_width = annotation[\"size\"][\"width\"]\n",
    "        image_height = annotation[\"size\"][\"height\"]\n",
    "        \n",
    "        mask = Image.new(\"L\", (image_width, image_height), 0)\n",
    "        draw = ImageDraw.Draw(mask)\n",
    "        \n",
    "        for shape in annotation[\"regions\"]:\n",
    "            class_name = shape[\"region_attributes\"][\"class\"]\n",
    "            \n",
    "            if class_name == \"1\":  # Wealthy regions\n",
    "                mask_value = 255\n",
    "            elif class_name == \"2\":  # Unwealthy regions\n",
    "                mask_value = 128\n",
    "            else:\n",
    "                continue\n",
    "            \n",
    "            x_points = shape[\"shape_attributes\"][\"all_points_x\"]\n",
    "            y_points = shape[\"shape_attributes\"][\"all_points_y\"]\n",
    "            polygon_points = list(zip(x_points, y_points))\n",
    "            draw.polygon(polygon_points, fill=mask_value)\n",
    "        \n",
    "        mask_filename = os.path.splitext(image_filename)[0] + \"_mask.png\"\n",
    "        mask.save(os.path.join(output_dir, mask_filename))\n",
    "\n",
    "print(\"Masks generated successfully.\")\n"
   ]
  },
  {
   "cell_type": "code",
   "execution_count": 4,
   "id": "6f7f98af",
   "metadata": {},
   "outputs": [],
   "source": []
  },
  {
   "cell_type": "code",
   "execution_count": 5,
   "id": "99e6f8ea",
   "metadata": {},
   "outputs": [],
   "source": [
    "import numpy as np\n",
    "import cv2\n",
    "import json"
   ]
  },
  {
   "cell_type": "code",
   "execution_count": 6,
   "id": "db19d993",
   "metadata": {},
   "outputs": [],
   "source": [
    "#reading json\n",
    "f=open(\"Challenge_3rd_trial.json\",\"r\")\n",
    "data=json.load(f)\n",
    "#print(data)"
   ]
  },
  {
   "cell_type": "code",
   "execution_count": 7,
   "id": "1d65453d",
   "metadata": {},
   "outputs": [],
   "source": [
    "data=data[\"_via_img_metadata\"]\n",
    "#print(data)"
   ]
  },
  {
   "cell_type": "code",
   "execution_count": 8,
   "id": "b6733b1f",
   "metadata": {},
   "outputs": [],
   "source": [
    "#path\n",
    "img_dir=r\"C:\\Users\\AKAM\\OneDrive\\Desktop\\Challenge\\Self_Annotated_data_challenge\\images\\batch_3\"\n",
    "mask_dir=r\"C:\\Users\\AKAM\\OneDrive\\Desktop\\Challenge\\Self_Annotated_data_challenge\\masks\""
   ]
  },
  {
   "cell_type": "code",
   "execution_count": 9,
   "id": "ae5a7ca3",
   "metadata": {},
   "outputs": [],
   "source": [
    "for key,value in data.items():\n",
    "    filename=value[\"filename\"]\n",
    "    \n",
    "    img_path=f'{img_dir}/{filename}'\n",
    "    img=cv2.imread(img_path,cv2.IMREAD_COLOR)\n",
    "    h,w,_=img.shape\n",
    "    mask=np.zeros((h,w))\n",
    "    regions=value[\"regions\"]\n",
    "#     print(value)\n",
    "#     print(\" \")\n",
    "    for region in regions:\n",
    "        shape_attributes=region[\"shape_attributes\"]\n",
    "        region_attributes=region[\"region_attributes\"]\n",
    "        x_points=shape_attributes[\"all_points_x\"]\n",
    "        y_points=shape_attributes[\"all_points_y\"]\n",
    "        \n",
    "        contours=[]\n",
    "        for x,y in zip(x_points,y_points):\n",
    "            contours.append((x,y))\n",
    "        contours=np.array(contours)\n",
    "        if \"1\" in list(region_attributes[\"name\"]):\n",
    "            cv2.drawContours(mask,[contours],-1,255,-1)\n",
    "        else:\n",
    "            cv2.drawContours(mask,[contours],-1,128,-1)\n",
    "#         print(region_attributes)\n",
    "#         print(\" \")\n",
    "    mask=cv2.imwrite(f\"{mask_dir}/{filename}\",mask)\n"
   ]
  },
  {
   "cell_type": "code",
   "execution_count": null,
   "id": "80d46d98",
   "metadata": {},
   "outputs": [],
   "source": []
  }
 ],
 "metadata": {
  "kernelspec": {
   "display_name": "Python 3 (ipykernel)",
   "language": "python",
   "name": "python3"
  },
  "language_info": {
   "codemirror_mode": {
    "name": "ipython",
    "version": 3
   },
   "file_extension": ".py",
   "mimetype": "text/x-python",
   "name": "python",
   "nbconvert_exporter": "python",
   "pygments_lexer": "ipython3",
   "version": "3.11.3"
  }
 },
 "nbformat": 4,
 "nbformat_minor": 5
}
